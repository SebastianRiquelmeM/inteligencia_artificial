{
 "cells": [
  {
   "cell_type": "markdown",
   "metadata": {},
   "source": [
    "# Tarea 3 - Inteligencia artificial"
   ]
  },
  {
   "cell_type": "markdown",
   "metadata": {},
   "source": [
    "'/home/ubuntu/inteligencia_artificial/Tareas/Tarea 3'"
   ]
  },
  {
   "cell_type": "markdown",
   "metadata": {},
   "source": [
    "## Item 1\n",
    "Importo dataset (10 puntos)\n",
    "Fuente: https://www.kaggle.com/datasets/ayessa/salary-prediction-classification"
   ]
  },
  {
   "cell_type": "code",
   "execution_count": 3,
   "metadata": {},
   "outputs": [
    {
     "name": "stdout",
     "output_type": "stream",
     "text": [
      "   age          workclass  fnlwgt   education  education-num  \\\n",
      "0   39          State-gov   77516   Bachelors             13   \n",
      "1   50   Self-emp-not-inc   83311   Bachelors             13   \n",
      "2   38            Private  215646     HS-grad              9   \n",
      "3   53            Private  234721        11th              7   \n",
      "4   28            Private  338409   Bachelors             13   \n",
      "\n",
      "        marital-status          occupation    relationship    race      sex  \\\n",
      "0        Never-married        Adm-clerical   Not-in-family   White     Male   \n",
      "1   Married-civ-spouse     Exec-managerial         Husband   White     Male   \n",
      "2             Divorced   Handlers-cleaners   Not-in-family   White     Male   \n",
      "3   Married-civ-spouse   Handlers-cleaners         Husband   Black     Male   \n",
      "4   Married-civ-spouse      Prof-specialty            Wife   Black   Female   \n",
      "\n",
      "   capital-gain  capital-loss  hours-per-week  native-country  salary  \n",
      "0          2174             0              40   United-States   <=50K  \n",
      "1             0             0              13   United-States   <=50K  \n",
      "2             0             0              40   United-States   <=50K  \n",
      "3             0             0              40   United-States   <=50K  \n",
      "4             0             0              40            Cuba   <=50K  \n"
     ]
    },
    {
     "data": {
      "text/plain": [
       "(21999, 15)"
      ]
     },
     "execution_count": 3,
     "metadata": {},
     "output_type": "execute_result"
    }
   ],
   "source": [
    "import pandas as pd\n",
    "import numpy as np\n",
    "from sklearn.model_selection import train_test_split\n",
    "dataset = pd.read_csv(\"./dataset/train22k.csv\")\n",
    "print(dataset.head())\n",
    "dataset.shape"
   ]
  },
  {
   "cell_type": "markdown",
   "metadata": {},
   "source": [
    "## Item 2\n",
    "Entrene el algoritmo KNN sobre los datos seleccionados y aplique predicciones con algún (sub)conjunto DISJUNTO de prueba. Adicionalmente, utilice 3 métricas (a su elección) de error y compárelas entre sí. (15 ptos)"
   ]
  },
  {
   "cell_type": "code",
   "execution_count": 53,
   "metadata": {},
   "outputs": [
    {
     "name": "stdout",
     "output_type": "stream",
     "text": [
      "Score_train:  0.805945724805673\n",
      "score_validation:  0.7954932777882977\n",
      "accuracy_score: 0.805945724805673\n",
      "hamming_loss: 0.19405427519432702\n",
      "jaccard_score: 0.2177020340846619\n",
      "[1 3 3 ... 3 3 1]\n",
      "[3 0 3 ... 3 3 0]\n",
      "-28.94735451565134\n",
      "[0.01609181 0.07073507 0.04250194 0.87067118]\n"
     ]
    }
   ],
   "source": [
    "from sklearn.neighbors import KNeighborsClassifier\n",
    "\"\"\" el siguiente es para asociar strings a numeros \"\"\"\n",
    "from sklearn.preprocessing import LabelEncoder\n",
    "\n",
    "\n",
    "#print(type(dataset.iloc[0,1]))\n",
    "#print(isinstance(dataset.iloc[0,1], str))\n",
    "#print(dataset.head())\n",
    "\"\"\" Declaro el encoder de string a numeros \"\"\"\n",
    "encoder = LabelEncoder()\n",
    "\n",
    "\"\"\" For para iterar el dataset \"\"\"\n",
    "for i in range(15):\n",
    "     \"\"\"  \n",
    "     En realidad el dataset es un dataframe de pandas, este tiene propiedades para\n",
    "     acceder a él. 'iloc' sirve para acceder a él como una matriz con indices\n",
    "     de fila y columna [x,y].\n",
    "\n",
    "     Con isisntance puedo ver si la primera fila de datos en cada columna es un string,\n",
    "     ya que en estos casos debo aplicar la conversion a números \"\"\"\n",
    "     if isinstance(dataset.iloc[0,i], str):\n",
    "          #print(dataset.columns[i], dataset.iloc[0,i])\n",
    "          #print(\"type column: \", type(dataset.columns[i]),\" column:\", dataset.columns[i])\n",
    "          #dataset[dataset.columns[i]] = encoder.fit_transform(dataset.columns[i])\n",
    "          \"\"\"\n",
    "          Con dataset.columns[i] obtengo el nombre de la columna,\n",
    "          luego convierto esa columna completa en números \"\"\"\n",
    "          string = dataset.columns[i]\n",
    "          dataset[string] = encoder.fit_transform(dataset[string])\n",
    "\n",
    "#print(dataset.head())\n",
    "#print(dataset)\n",
    "#encoder.classes_\n",
    "\n",
    "def column_string_to_int(columnas, dataset_validation):\n",
    "     for i in range(columnas):\n",
    "          if isinstance(dataset_validation.iloc[0,i], str):\n",
    "               string = dataset_validation.columns[i]\n",
    "               dataset_validation[string] = encoder.fit_transform(dataset_validation[string])\n",
    "\n",
    "\n",
    "\n",
    "def entrenar_contar_aciertos(dataset, vecinos):\n",
    "\n",
    "     x = dataset.iloc[:, :14].values\n",
    "\n",
    "     y = dataset['salary'].values\n",
    "\n",
    "     knn = KNeighborsClassifier(n_neighbors=vecinos)\n",
    "\n",
    "     knn.fit(x, y)\n",
    "     #Realizo una predicción\n",
    "\n",
    "     dataset_validation = pd.read_csv(\"./dataset/validation.csv\")\n",
    "     column_string_to_int(15, dataset_validation)\n",
    "\n",
    "     x_validation = dataset_validation.iloc[:, :14].values\n",
    "     y_validation = dataset_validation['salary'].values\n",
    "\n",
    "     \"\"\" Los datos de salario <=50k son 0 y los >50 son 1 \"\"\"\n",
    "\n",
    "     \"\"\" for i in range(20): \n",
    "          if(knn.predict(x_validation[i].reshape(1,-1))[0] == 1):\n",
    "               print(\">50\")\n",
    "          else:\n",
    "               print(\"<=50k\") \"\"\"\n",
    "          #print(knn.predict(x_validation[i].reshape(1,-1))[0])\n",
    "     prediccion_correcta = []\n",
    "\n",
    "     for i in range(len(x_validation)): \n",
    "          resultado = knn.predict(x_validation[i].reshape(1,-1))[0]\n",
    "          if resultado == y_validation[i]:\n",
    "               prediccion_correcta.append(resultado)\n",
    "          \n",
    "     #print(  (len(prediccion_correcta)/len(y_validation))*100, \"% de presición\"  )  \n",
    "     return (len(prediccion_correcta)/len(y_validation))*100\n",
    "\n",
    "def buscar_n_optimo(dataset, vecinos_a_probar):\n",
    "     actual = 0\n",
    "     i_actual = 0\n",
    "     for i in range(vecinos_a_probar):\n",
    "          nuevo = entrenar(dataset, i+1)\n",
    "          if actual < nuevo:\n",
    "               actual = nuevo\n",
    "               i_actual = i+1\n",
    "               print(\"i: \", i_actual, \" n_vecinos: \", actual )\n",
    "     print(\"Cantidad de vecinos con mayor precision: \")\n",
    "     print(\"i: \", i_actual, \" n_vecinos: \", actual )\n",
    "\n",
    "\n",
    "\n",
    "x = dataset.iloc[:, :14].values\n",
    "\n",
    "y = dataset['salary'].values\n",
    "\n",
    "knn = KNeighborsClassifier(n_neighbors=17)\n",
    "\n",
    "knn.fit(x, y)\n",
    "#Realizo una predicción\n",
    "\n",
    "dataset_validation = pd.read_csv(\"./dataset/validation.csv\")\n",
    "column_string_to_int(15, dataset_validation)\n",
    "\n",
    "x_validation = dataset_validation.iloc[:, :14].values\n",
    "y_validation = dataset_validation['salary'].values\n",
    "\n",
    "#knn.predict(x_validation[1].reshape(1,-1))[0]\n",
    "\n",
    "y_pred = knn.predict(x)\n",
    "\n",
    "score_train = knn.score(x,y)\n",
    "score_validation = knn.score(x_validation,y_validation)\n",
    "print(\"Score_train: \", score_train)\n",
    "print(\"score_validation: \", score_validation)\n",
    "\n",
    "from sklearn import metrics\n",
    "\n",
    "print(\"accuracy_score:\", metrics.accuracy_score(y, y_pred))\n",
    "\n",
    "print(\"hamming_loss:\", metrics.hamming_loss(y, y_pred))\n",
    "print(\"jaccard_score:\", metrics.jaccard_score(y, y_pred))\n",
    "\n",
    "from sklearn.mixture import GaussianMixture\n",
    "gm = GaussianMixture(n_components=4, random_state=123).fit(x)\n",
    "#gm.means_\n",
    "#c = gm.predict(x)\n",
    "\n",
    "print(gm.predict(x))\n",
    "print(gm.predict(x_validation))\n",
    "print(gm.score(x))\n",
    "print(gm.weights_)"
   ]
  },
  {
   "cell_type": "markdown",
   "metadata": {},
   "source": [
    "## Item 3\n",
    "Entrene el algoritmo de Regresión Lineal ahora con los mismos datos seleccionados, aplicando también predicciones sobre el mismo (sub)conjunto DISJUNTO de prueba de la parte anterior. Elija alguna métrica de error de entre las tres de la parte anterior y compare los errores, dando una explicación de qué sucede. (15 ptos)"
   ]
  },
  {
   "cell_type": "code",
   "execution_count": null,
   "metadata": {},
   "outputs": [
    {
     "ename": "",
     "evalue": "",
     "output_type": "error",
     "traceback": [
      "\u001b[1;31mnotebook controller is DISPOSED. \n",
      "\u001b[1;31mView Jupyter <a href='command:jupyter.viewOutput'>log</a> for further details."
     ]
    }
   ],
   "source": []
  },
  {
   "cell_type": "markdown",
   "metadata": {},
   "source": [
    "## Item 4\n",
    "Tome su mismo dataset y entrene dos algoritmos de clasificación: Gaussian Mixture Model y DBSCAN. Evalúe estos algoritmos sobre el mismo (sub)conjunto DISJUNTO de las partes 2 y 3. Analice la diferencia en los resultados entre los algoritmos (10 ptos). Asimismo, indique y aporte evidencia en la diferencia fundamental (clustering vs. estimación de densidad) que existe entre ambos algoritmos (10 ptos)."
   ]
  },
  {
   "cell_type": "code",
   "execution_count": null,
   "metadata": {},
   "outputs": [
    {
     "ename": "",
     "evalue": "",
     "output_type": "error",
     "traceback": [
      "\u001b[1;31mnotebook controller is DISPOSED. \n",
      "\u001b[1;31mView Jupyter <a href='command:jupyter.viewOutput'>log</a> for further details."
     ]
    }
   ],
   "source": []
  }
 ],
 "metadata": {
  "kernelspec": {
   "display_name": "Python 3 (ipykernel)",
   "language": "python",
   "name": "python3"
  },
  "language_info": {
   "codemirror_mode": {
    "name": "ipython",
    "version": 3
   },
   "file_extension": ".py",
   "mimetype": "text/x-python",
   "name": "python",
   "nbconvert_exporter": "python",
   "pygments_lexer": "ipython3",
   "version": "3.10.6"
  }
 },
 "nbformat": 4,
 "nbformat_minor": 2
}
