{
 "cells": [
  {
   "cell_type": "code",
   "execution_count": null,
   "id": "ef7cfa40",
   "metadata": {},
   "outputs": [],
   "source": [
    "import bnlearn as bn\n",
    "\n",
    "import pandas as pd\n",
    "\n",
    "df = bn.import_example()\n",
    "\n",
    "#dataframe\n",
    "df = pd.read_csv('../dataset18.csv')\n"
   ]
  },
  {
   "cell_type": "code",
   "execution_count": null,
   "id": "79c4a6e2",
   "metadata": {},
   "outputs": [],
   "source": [
    "model = bn.structure_learning.fit(df)\n",
    "\n",
    "model = bn.plot(model)\n",
    "\n",
    "print( model )"
   ]
  },
  {
   "cell_type": "code",
   "execution_count": null,
   "id": "7be2cd21",
   "metadata": {},
   "outputs": [],
   "source": []
  },
  {
   "cell_type": "code",
   "execution_count": null,
   "id": "26b76461",
   "metadata": {},
   "outputs": [],
   "source": []
  }
 ],
 "metadata": {
  "kernelspec": {
   "display_name": "Python 3.8.10 64-bit",
   "language": "python",
   "name": "python3"
  },
  "language_info": {
   "codemirror_mode": {
    "name": "ipython",
    "version": 3
   },
   "file_extension": ".py",
   "mimetype": "text/x-python",
   "name": "python",
   "nbconvert_exporter": "python",
   "pygments_lexer": "ipython3",
   "version": "3.8.10"
  },
  "vscode": {
   "interpreter": {
    "hash": "916dbcbb3f70747c44a77c7bcd40155683ae19c65e1c03b4aa3499c5328201f1"
   }
  }
 },
 "nbformat": 4,
 "nbformat_minor": 5
}
